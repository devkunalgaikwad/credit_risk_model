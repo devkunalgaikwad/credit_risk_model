{
 "cells": [
  {
   "cell_type": "code",
   "execution_count": null,
   "metadata": {},
   "outputs": [],
   "source": [
    "import pandas as pd\n",
    "import numpy as np "
   ]
  },
  {
   "attachments": {},
   "cell_type": "markdown",
   "metadata": {},
   "source": [
    "# General Information"
   ]
  },
  {
   "cell_type": "code",
   "execution_count": null,
   "metadata": {},
   "outputs": [],
   "source": [
    "loan_data_backup = pd.read_csv('E:\\programming\\Data science\\Credit risk modelling\\support files\\loan_data_2007-2014\\loan_data_2007_2014.csv')\n",
    "loan_data = loan_data_backup.copy()\n",
    "loan_data\n",
    "\n",
    "# it will display all columns of dataset\n",
    "pd.options.display.max_columns = None\n",
    "loan_data"
   ]
  },
  {
   "cell_type": "code",
   "execution_count": null,
   "metadata": {},
   "outputs": [],
   "source": [
    "loan_data['emp_title']"
   ]
  },
  {
   "cell_type": "code",
   "execution_count": null,
   "metadata": {},
   "outputs": [],
   "source": [
    "loan_data.columns.values"
   ]
  },
  {
   "cell_type": "code",
   "execution_count": null,
   "metadata": {},
   "outputs": [],
   "source": [
    "loan_data.head()"
   ]
  },
  {
   "cell_type": "code",
   "execution_count": null,
   "metadata": {},
   "outputs": [],
   "source": [
    "loan_data.info()"
   ]
  },
  {
   "cell_type": "code",
   "execution_count": null,
   "metadata": {},
   "outputs": [],
   "source": [
    "loan_data.shape"
   ]
  },
  {
   "attachments": {},
   "cell_type": "markdown",
   "metadata": {},
   "source": [
    "***\n",
    "# **General Preprocessing**"
   ]
  },
  {
   "attachments": {},
   "cell_type": "markdown",
   "metadata": {},
   "source": [
    "## 1. emp_length"
   ]
  },
  {
   "attachments": {},
   "cell_type": "markdown",
   "metadata": {},
   "source": [
    "* In 'emp_length' it contain values of duration of loan\n",
    "* dtype str, '4 years'\n",
    "* We need to convert it into int '4 years' to 4"
   ]
  },
  {
   "cell_type": "code",
   "execution_count": null,
   "metadata": {},
   "outputs": [],
   "source": [
    "loan_data['emp_length'].unique()"
   ]
  },
  {
   "attachments": {},
   "cell_type": "markdown",
   "metadata": {},
   "source": [
    "* We can use numpy to strip the str\n",
    "* loan_data[:,'emp_length'] = np.chararray.strip(loan_data[:,'emp_length'], 'years')"
   ]
  },
  {
   "cell_type": "code",
   "execution_count": null,
   "metadata": {},
   "outputs": [],
   "source": [
    "loan_data['emp_length_int'] = loan_data['emp_length'].str.replace('+ years','')\n",
    "loan_data['emp_length_int'] = loan_data['emp_length_int'].str.replace('< 1 year', str(0))\n",
    "loan_data['emp_length_int'] = loan_data['emp_length_int'].str.replace(' years','')\n",
    "loan_data['emp_length_int'] = loan_data['emp_length_int'].str.replace(' year','')\n",
    "loan_data['emp_length_int'].fillna('0',inplace=True)"
   ]
  },
  {
   "attachments": {},
   "cell_type": "markdown",
   "metadata": {},
   "source": [
    "#### `Here we created new column name as 'emp_length_int'`"
   ]
  },
  {
   "cell_type": "code",
   "execution_count": null,
   "metadata": {},
   "outputs": [],
   "source": [
    "loan_data.info()\n",
    "loan_data['emp_length_int'].unique()"
   ]
  },
  {
   "cell_type": "code",
   "execution_count": null,
   "metadata": {},
   "outputs": [],
   "source": [
    "loan_data['emp_length_int'] = pd.to_numeric(loan_data['emp_length_int'])\n",
    "loan_data['emp_length_int'].dtype\n",
    "loan_data.info()"
   ]
  },
  {
   "cell_type": "markdown",
   "metadata": {},
   "source": [
    "## 2. earliest_cr_line\n",
    "* dtype str , 'Jan-85'  month-year\n",
    "* Convert it into int, 'Jan-85' > 85\n",
    "> First we convert into datetime  format = '%b-%y"
   ]
  },
  {
   "cell_type": "code",
   "execution_count": null,
   "metadata": {},
   "outputs": [],
   "source": [
    "loan_data['earliest_cr_line']"
   ]
  },
  {
   "cell_type": "code",
   "execution_count": null,
   "metadata": {},
   "outputs": [],
   "source": [
    "loan_data['earliest_cr_line_date'] = pd.to_datetime(loan_data['earliest_cr_line'], format = '%b-%y')"
   ]
  },
  {
   "cell_type": "code",
   "execution_count": null,
   "metadata": {},
   "outputs": [],
   "source": [
    "type(loan_data['earliest_cr_line_date'][0])"
   ]
  },
  {
   "cell_type": "code",
   "execution_count": null,
   "metadata": {},
   "outputs": [],
   "source": [
    "pd.to_datetime('2017-12-01') - loan_data['earliest_cr_line_date']"
   ]
  },
  {
   "cell_type": "code",
   "execution_count": null,
   "metadata": {},
   "outputs": [],
   "source": [
    "loan_data['mths_since_earliest_cr_line'] = round(pd.to_numeric((pd.to_datetime('2017-12-01') - loan_data['earliest_cr_line_date']) / np.timedelta64(1, 'M')))"
   ]
  },
  {
   "cell_type": "markdown",
   "metadata": {},
   "source": [
    "## 3. mths_since_earliest_cr_line"
   ]
  },
  {
   "cell_type": "code",
   "execution_count": null,
   "metadata": {},
   "outputs": [],
   "source": [
    "loan_data['mths_since_earliest_cr_line'].describe()"
   ]
  },
  {
   "cell_type": "code",
   "execution_count": null,
   "metadata": {},
   "outputs": [],
   "source": [
    "loan_data.loc[: , ['earliest_cr_line', 'earliest_cr_line_date', 'mths_since_earliest_cr_line']][loan_data['mths_since_earliest_cr_line'] < 0]"
   ]
  },
  {
   "cell_type": "code",
   "execution_count": null,
   "metadata": {},
   "outputs": [],
   "source": [
    "loan_data['mths_since_earliest_cr_line'][loan_data['mths_since_earliest_cr_line'] < 0] = loan_data['mths_since_earliest_cr_line'].max()"
   ]
  },
  {
   "cell_type": "code",
   "execution_count": null,
   "metadata": {},
   "outputs": [],
   "source": [
    "min(loan_data['mths_since_earliest_cr_line'])"
   ]
  },
  {
   "attachments": {},
   "cell_type": "markdown",
   "metadata": {},
   "source": [
    "## 4. term"
   ]
  },
  {
   "attachments": {},
   "cell_type": "markdown",
   "metadata": {},
   "source": [
    "* Same for term column"
   ]
  },
  {
   "cell_type": "code",
   "execution_count": null,
   "metadata": {},
   "outputs": [],
   "source": [
    "loan_data['term'].unique()"
   ]
  },
  {
   "cell_type": "code",
   "execution_count": null,
   "metadata": {},
   "outputs": [],
   "source": [
    "loan_data['term_int'] = loan_data['term'].replace(' 60 months', 60)\n",
    "loan_data['term_int'] = loan_data['term_int'].replace(' 36 months',36)\n",
    "loan_data['term_int'].unique()"
   ]
  },
  {
   "attachments": {},
   "cell_type": "markdown",
   "metadata": {},
   "source": [
    "## 4. issue_date"
   ]
  },
  {
   "cell_type": "code",
   "execution_count": null,
   "metadata": {},
   "outputs": [],
   "source": [
    "loan_data['issue_d'].unique()"
   ]
  },
  {
   "cell_type": "code",
   "execution_count": null,
   "metadata": {},
   "outputs": [],
   "source": [
    "loan_data['issue_date'] = pd.to_datetime(loan_data['issue_d'], format= '%b-%y')\n",
    "loan_data['issue_date'].unique()"
   ]
  },
  {
   "cell_type": "code",
   "execution_count": null,
   "metadata": {},
   "outputs": [],
   "source": [
    "pd.to_datetime('2017-12-01') - loan_data['issue_date']"
   ]
  },
  {
   "cell_type": "code",
   "execution_count": null,
   "metadata": {},
   "outputs": [],
   "source": [
    "loan_data['months_issue_date'] = round(pd.to_numeric((pd.to_datetime('2017-12-01')- loan_data['issue_date'])/np.timedelta64(1,'M')))\n",
    "loan_data['months_issue_date'].unique()\n",
    "loan_data['months_issue_date'].describe()\n",
    "loan_data.info()"
   ]
  },
  {
   "attachments": {},
   "cell_type": "markdown",
   "metadata": {},
   "source": [
    "***\n",
    "# **Preprocessing few discrete variable**"
   ]
  },
  {
   "attachments": {},
   "cell_type": "markdown",
   "metadata": {},
   "source": [
    "* garde\n",
    "* sub_grade\n",
    "* home_ownership\n",
    "* verification_status\n",
    "* purpose\n",
    "* addr_state\n",
    "* initial_list_status"
   ]
  },
  {
   "attachments": {},
   "cell_type": "markdown",
   "metadata": {},
   "source": [
    "### We convert into dummy variable (0 or 1)"
   ]
  },
  {
   "attachments": {},
   "cell_type": "markdown",
   "metadata": {},
   "source": [
    "#### `We will do it in new dataframe and then conqiuate it to our dataset`"
   ]
  },
  {
   "cell_type": "code",
   "execution_count": null,
   "metadata": {},
   "outputs": [],
   "source": [
    "pd.get_dummies(loan_data['grade'],dtype=int,prefix='Grade',prefix_sep=':')"
   ]
  },
  {
   "attachments": {},
   "cell_type": "markdown",
   "metadata": {},
   "source": [
    "#### Actual steps!"
   ]
  },
  {
   "cell_type": "code",
   "execution_count": null,
   "metadata": {},
   "outputs": [],
   "source": [
    "loan_data_dummies = [pd.get_dummies(loan_data['grade'],dtype=int,prefix='Grade',prefix_sep=':'),\n",
    "                     pd.get_dummies(loan_data['sub_grade'],dtype=int,prefix='sub_grade',prefix_sep=':'),\n",
    "                     pd.get_dummies(loan_data['home_ownership'],dtype=int,prefix='home_ownership',prefix_sep=' '),\n",
    "                     pd.get_dummies(loan_data['verification_status'],dtype=int,prefix='verification_status',prefix_sep=':'),\n",
    "                    pd.get_dummies(loan_data['loan_status'], prefix = 'loan_status', prefix_sep = ':'),\n",
    "                     pd.get_dummies(loan_data['purpose'],dtype=int,prefix='purpose',prefix_sep=':'),\n",
    "                     pd.get_dummies(loan_data['addr_state'],dtype=int,prefix='addr_state',prefix_sep=':'),\n",
    "                     pd.get_dummies(loan_data['initial_list_status'],dtype=int,prefix='initial_list_status',prefix_sep=':')]\n",
    "loan_data_dummies"
   ]
  },
  {
   "cell_type": "code",
   "execution_count": null,
   "metadata": {},
   "outputs": [],
   "source": [
    "loan_data_dummies"
   ]
  },
  {
   "cell_type": "code",
   "execution_count": null,
   "metadata": {},
   "outputs": [],
   "source": [
    "loan_data_dummies = pd.concat(loan_data_dummies,axis=1)"
   ]
  },
  {
   "cell_type": "code",
   "execution_count": null,
   "metadata": {},
   "outputs": [],
   "source": [
    "loan_data_dummies"
   ]
  },
  {
   "cell_type": "code",
   "execution_count": null,
   "metadata": {},
   "outputs": [],
   "source": [
    "type(loan_data_dummies)"
   ]
  },
  {
   "cell_type": "code",
   "execution_count": null,
   "metadata": {},
   "outputs": [],
   "source": [
    "loan_data = pd.concat([loan_data, loan_data_dummies],axis=1)"
   ]
  },
  {
   "cell_type": "code",
   "execution_count": null,
   "metadata": {},
   "outputs": [],
   "source": [
    "loan_data.columns.values\n",
    "loan_data.info()"
   ]
  },
  {
   "attachments": {},
   "cell_type": "markdown",
   "metadata": {},
   "source": [
    "***\n",
    "# **Checking missing values**"
   ]
  },
  {
   "cell_type": "code",
   "execution_count": null,
   "metadata": {},
   "outputs": [],
   "source": [
    "pd.options.display.max_rows = None\n",
    "loan_data.isnull().sum()"
   ]
  },
  {
   "cell_type": "code",
   "execution_count": null,
   "metadata": {},
   "outputs": [],
   "source": [
    "loan_data['total_rev_hi_lim'].fillna(loan_data['funded_amnt'], inplace = True)"
   ]
  },
  {
   "cell_type": "code",
   "execution_count": null,
   "metadata": {},
   "outputs": [],
   "source": [
    "loan_data['total_rev_hi_lim'].isnull().sum()"
   ]
  },
  {
   "attachments": {},
   "cell_type": "markdown",
   "metadata": {},
   "source": [
    "### So remaining missing values of columns are\n",
    "* emp_title\n",
    "* emp_length\n",
    "* desc\n",
    "* mths_since_last_delinq\n",
    "* mths_since_last_record\n",
    "* revol_bal\n",
    "* last_pymnt_d\n",
    "* next_pymnt_d\n",
    "* last_credit_pull_d\n",
    "* collections_12_mths_ex_med\n",
    "* mths_since_last_major_derog\n",
    "* annual_inc_joint\n",
    "* dti_joint\n",
    "* verification_status_joint\n",
    "* tot_coll_amt\n",
    "* tot_cur_bal\n",
    "* open_acc_6m\n",
    "* open_il_6m\n",
    "* open_il_12m\n",
    "* open_il_24m\n",
    "* mths_since_rcnt_il\n",
    "* total_bal_il\n",
    "* il_util\n",
    "* open_rv_12m\n",
    "* open_rv_24m\n",
    "* max_bal_bc\n",
    "* all_util\n",
    "* total_rev_hi_lim\n",
    "* inq_fi\n",
    "* total_cu_tl\n",
    "* inq_last_12m\n",
    "* earliest_cr_line_date\n",
    "* months_since_earliest_cr_line"
   ]
  },
  {
   "cell_type": "code",
   "execution_count": null,
   "metadata": {},
   "outputs": [],
   "source": [
    "loan_data['annual_inc'].fillna(loan_data['annual_inc'].mean(), inplace=True)\n",
    "loan_data['acc_now_delinq'].fillna(0, inplace=True)\n",
    "loan_data['total_acc'].fillna(0, inplace=True)\n",
    "loan_data['pub_rec'].fillna(0, inplace=True)\n",
    "loan_data['open_acc'].fillna(0, inplace=True)\n",
    "loan_data['inq_last_6mths'].fillna(0, inplace=True)\n",
    "loan_data['delinq_2yrs'].fillna(0, inplace=True)\n",
    "loan_data['emp_length_int'].fillna(0, inplace=True)\n",
    "loan_data['mths_since_earliest_cr_line'].fillna(0, inplace=True)"
   ]
  },
  {
   "attachments": {},
   "cell_type": "markdown",
   "metadata": {},
   "source": [
    "### So remaining missing values of columns are\n",
    "* emp_title\n",
    "* emp_length\n",
    "* desc\n",
    "* mths_since_last_delinq\n",
    "* mths_since_last_record\n",
    "* revol_bal\n",
    "* last_pymnt_d\n",
    "* next_pymnt_d\n",
    "* last_credit_pull_d\n",
    "* collections_12_mths_ex_med\n",
    "* mths_since_last_major_derog\n",
    "* annual_inc_joint\n",
    "* dti_joint\n",
    "* verification_status_joint\n",
    "* tot_coll_amt\n",
    "* tot_cur_bal\n",
    "* open_acc_6m\n",
    "* open_il_6m\n",
    "* open_il_12m\n",
    "* open_il_24m\n",
    "* mths_since_rcnt_il\n",
    "* total_bal_il\n",
    "* il_util\n",
    "* open_rv_12m\n",
    "* open_rv_24m\n",
    "* max_bal_bc\n",
    "* all_util\n",
    "* total_rev_hi_lim\n",
    "* inq_fi\n",
    "* total_cu_tl\n",
    "* inq_last_12m\n",
    "* earliest_cr_line_date\n",
    "* months_since_earliest_cr_line"
   ]
  },
  {
   "cell_type": "code",
   "execution_count": null,
   "metadata": {},
   "outputs": [],
   "source": [
    "loan_data.isnull().sum()\n",
    "loan_data.info()"
   ]
  },
  {
   "attachments": {},
   "cell_type": "markdown",
   "metadata": {},
   "source": [
    "***\n",
    "# **Model**\n",
    "### * expected loss is calculated by pd, lgd and ead\n",
    "* pd - Probability of default\n",
    "* lgd - loss given default\n",
    "* ead - Exposure at default"
   ]
  },
  {
   "attachments": {},
   "cell_type": "markdown",
   "metadata": {},
   "source": [
    "We use 1 for good, and 0 for bad"
   ]
  },
  {
   "cell_type": "code",
   "execution_count": null,
   "metadata": {},
   "outputs": [],
   "source": [
    "loan_data['loan_status'].unique()"
   ]
  },
  {
   "cell_type": "code",
   "execution_count": null,
   "metadata": {},
   "outputs": [],
   "source": [
    "loan_data['loan_status'].value_counts()/ loan_data['loan_status'].count()"
   ]
  },
  {
   "cell_type": "code",
   "execution_count": null,
   "metadata": {},
   "outputs": [],
   "source": [
    "loan_data['good_bad'] = np.where(loan_data['loan_status'].isin(['Charged Off ', 'Default','Late (31-120 days)','Does not meet the credit policy. Status:Charged Off']),0,1)"
   ]
  },
  {
   "cell_type": "code",
   "execution_count": null,
   "metadata": {},
   "outputs": [],
   "source": [
    "loan_data['good_bad'].unique()"
   ]
  },
  {
   "cell_type": "code",
   "execution_count": null,
   "metadata": {},
   "outputs": [],
   "source": [
    "loan_data.info()"
   ]
  },
  {
   "cell_type": "markdown",
   "metadata": {},
   "source": [
    "# There is method for turning continuous variables into categories or in descrite values\n",
    "\n",
    "\n",
    "## Turning descrite values\n",
    "* Method is called fine classing"
   ]
  },
  {
   "cell_type": "markdown",
   "metadata": {},
   "source": [
    "### Splitting Data\n",
    "Importing libraries"
   ]
  },
  {
   "cell_type": "code",
   "execution_count": null,
   "metadata": {},
   "outputs": [],
   "source": [
    "from sklearn.model_selection import train_test_split"
   ]
  },
  {
   "cell_type": "code",
   "execution_count": null,
   "metadata": {},
   "outputs": [],
   "source": [
    "loan_data_inputs_train, loan_data_inputs_test, loan_data_targets_train, loan_data_targets_test = train_test_split(loan_data.drop('good_bad',axis=1),loan_data['good_bad'])"
   ]
  },
  {
   "cell_type": "code",
   "execution_count": null,
   "metadata": {},
   "outputs": [],
   "source": [
    "loan_data_inputs_train.shape"
   ]
  },
  {
   "cell_type": "code",
   "execution_count": null,
   "metadata": {},
   "outputs": [],
   "source": [
    "loan_data_targets_train.shape"
   ]
  },
  {
   "cell_type": "code",
   "execution_count": null,
   "metadata": {},
   "outputs": [],
   "source": [
    "loan_data_inputs_test.shape"
   ]
  },
  {
   "cell_type": "code",
   "execution_count": null,
   "metadata": {},
   "outputs": [],
   "source": [
    "loan_data_targets_test.shape"
   ]
  },
  {
   "cell_type": "markdown",
   "metadata": {},
   "source": [
    "#### `We select random_state to 42 to get similar randominess in splitting of dataset everytime`"
   ]
  },
  {
   "cell_type": "code",
   "execution_count": null,
   "metadata": {},
   "outputs": [],
   "source": [
    "loan_data_inputs_train, loan_data_inputs_test, loan_data_targets_train, loan_data_targets_test = train_test_split(loan_data.drop('good_bad', axis = 1), loan_data['good_bad'], test_size = 0.2, random_state = 42)"
   ]
  },
  {
   "cell_type": "code",
   "execution_count": null,
   "metadata": {},
   "outputs": [],
   "source": [
    "loan_data_inputs_train.shape"
   ]
  },
  {
   "cell_type": "code",
   "execution_count": null,
   "metadata": {},
   "outputs": [],
   "source": [
    "loan_data_targets_train.shape"
   ]
  },
  {
   "cell_type": "code",
   "execution_count": null,
   "metadata": {},
   "outputs": [],
   "source": [
    "loan_data_inputs_test.shape"
   ]
  },
  {
   "cell_type": "code",
   "execution_count": null,
   "metadata": {},
   "outputs": [],
   "source": [
    "loan_data_targets_test.shape"
   ]
  },
  {
   "cell_type": "markdown",
   "metadata": {},
   "source": [
    "## Data Preparation : An Example"
   ]
  },
  {
   "cell_type": "code",
   "execution_count": null,
   "metadata": {},
   "outputs": [],
   "source": [
    "# first\n",
    "# df_inputs_prepr = loan_data_inputs_train\n",
    "# df_targets_prepr = loan_data_targets_train\n",
    "# second\n",
    "df_inputs_prepr = loan_data_inputs_test\n",
    "df_targets_prepr = loan_data_targets_test"
   ]
  },
  {
   "cell_type": "markdown",
   "metadata": {},
   "source": [
    "### *Grade*"
   ]
  },
  {
   "cell_type": "code",
   "execution_count": null,
   "metadata": {},
   "outputs": [],
   "source": [
    "df_inputs_prepr['grade'].unique()"
   ]
  },
  {
   "cell_type": "code",
   "execution_count": null,
   "metadata": {},
   "outputs": [],
   "source": [
    "df1 = pd.concat([df_inputs_prepr['grade'],df_targets_prepr],axis=1)\n",
    "df1.head()"
   ]
  },
  {
   "cell_type": "code",
   "execution_count": null,
   "metadata": {},
   "outputs": [],
   "source": [
    "df1.groupby(df1.columns.values[0], as_index=False)[df1.columns.values[1]].count()"
   ]
  },
  {
   "cell_type": "code",
   "execution_count": null,
   "metadata": {},
   "outputs": [],
   "source": [
    "df1.groupby(df1.columns.values[0], as_index=False)[df1.columns.values[1]].mean()"
   ]
  },
  {
   "cell_type": "code",
   "execution_count": null,
   "metadata": {},
   "outputs": [],
   "source": [
    "df1 = pd.concat([df1.groupby(df1.columns.values[0], as_index=False)[df1.columns.values[1]].count(),df1.groupby(df1.columns.values[0], as_index=False)[df1.columns.values[1]].mean()], axis=1)"
   ]
  },
  {
   "cell_type": "code",
   "execution_count": null,
   "metadata": {},
   "outputs": [],
   "source": [
    "df1"
   ]
  },
  {
   "cell_type": "code",
   "execution_count": null,
   "metadata": {},
   "outputs": [],
   "source": [
    "df1 = df1.iloc[:, [0,1,3]]\n",
    "df1"
   ]
  },
  {
   "cell_type": "code",
   "execution_count": null,
   "metadata": {},
   "outputs": [],
   "source": [
    "df1.columns = [df1.columns.values[0], 'n_obs','prop_good']\n",
    "df1"
   ]
  },
  {
   "cell_type": "code",
   "execution_count": null,
   "metadata": {},
   "outputs": [],
   "source": [
    "df1['prop_n_obs'] = df1['n_obs']/df1['n_obs'].sum()"
   ]
  },
  {
   "cell_type": "code",
   "execution_count": null,
   "metadata": {},
   "outputs": [],
   "source": [
    "df1"
   ]
  },
  {
   "cell_type": "code",
   "execution_count": null,
   "metadata": {},
   "outputs": [],
   "source": [
    "df1['n_good']= df1['prop_good']*df1['n_obs']\n",
    "df1['n_bad'] = (1- df1['prop_good'])*df1['n_obs']\n",
    "df1"
   ]
  },
  {
   "cell_type": "code",
   "execution_count": null,
   "metadata": {},
   "outputs": [],
   "source": [
    "df1['prop_n_good'] = df1['n_good'] / df1['n_good'].sum()\n",
    "df1['prop_n_bad'] = df1['n_bad'] / df1['n_bad'].sum()"
   ]
  },
  {
   "cell_type": "code",
   "execution_count": null,
   "metadata": {},
   "outputs": [],
   "source": [
    "df1"
   ]
  },
  {
   "cell_type": "code",
   "execution_count": null,
   "metadata": {},
   "outputs": [],
   "source": [
    "df1['WoE'] = np.log(df1['prop_n_good']/df1['prop_n_bad'])\n",
    "df1"
   ]
  },
  {
   "cell_type": "code",
   "execution_count": null,
   "metadata": {},
   "outputs": [],
   "source": [
    "\n",
    "df1 = df1.sort_values(['WoE'])\n",
    "df1 = df1.reset_index(drop=True)\n",
    "df1"
   ]
  },
  {
   "cell_type": "code",
   "execution_count": null,
   "metadata": {},
   "outputs": [],
   "source": [
    "\n",
    "df1['diff_prop_good'] = df1['prop_good'].diff().abs()\n",
    "df1['diff_WoE'] = df1['WoE'].diff().abs()\n",
    "df1"
   ]
  },
  {
   "cell_type": "code",
   "execution_count": null,
   "metadata": {},
   "outputs": [],
   "source": [
    "df1['IV']= (df1['prop_n_good']-df1['prop_n_bad'])*df1['WoE']\n",
    "df1['IV'] = df1['IV'].sum()\n",
    "df1"
   ]
  },
  {
   "cell_type": "markdown",
   "metadata": {},
   "source": [
    "## Preprocessing Discrete variables : Automating Calculations"
   ]
  },
  {
   "cell_type": "code",
   "execution_count": null,
   "metadata": {},
   "outputs": [],
   "source": [
    "def woe_discrete(df, discrete_variabe_name, good_bad_variable_df):\n",
    "    df = pd.concat([df[discrete_variabe_name], good_bad_variable_df], axis = 1)\n",
    "    df = pd.concat([df.groupby(df.columns.values[0], as_index = False)[df.columns.values[1]].count(),\n",
    "                    df.groupby(df.columns.values[0], as_index = False)[df.columns.values[1]].mean()], axis = 1)\n",
    "    df = df.iloc[:, [0, 1, 3]]\n",
    "    df.columns = [df.columns.values[0], 'n_obs', 'prop_good']\n",
    "    df['prop_n_obs'] = df['n_obs'] / df['n_obs'].sum()\n",
    "    df['n_good'] = df['prop_good'] * df['n_obs']\n",
    "    df['n_bad'] = (1 - df['prop_good']) * df['n_obs']\n",
    "    df['prop_n_good'] = df['n_good'] / df['n_good'].sum()\n",
    "    df['prop_n_bad'] = df['n_bad'] / df['n_bad'].sum()\n",
    "    df['WoE'] = np.log(df['prop_n_good'] / df['prop_n_bad'])\n",
    "    df = df.sort_values(['WoE'])\n",
    "    df = df.reset_index(drop = True)\n",
    "    df['diff_prop_good'] = df['prop_good'].diff().abs()\n",
    "    df['diff_WoE'] = df['WoE'].diff().abs()\n",
    "    df['IV'] = (df['prop_n_good'] - df['prop_n_bad']) * df['WoE']\n",
    "    df['IV'] = df['IV'].sum()\n",
    "    return df"
   ]
  },
  {
   "cell_type": "code",
   "execution_count": null,
   "metadata": {},
   "outputs": [],
   "source": [
    "df_temp = woe_discrete(df_inputs_prepr,'grade', df_targets_prepr)\n",
    "df_temp"
   ]
  },
  {
   "cell_type": "code",
   "execution_count": null,
   "metadata": {},
   "outputs": [],
   "source": [
    "df_temp"
   ]
  },
  {
   "cell_type": "markdown",
   "metadata": {},
   "source": [
    "## Visualzing the Result"
   ]
  },
  {
   "cell_type": "code",
   "execution_count": null,
   "metadata": {},
   "outputs": [],
   "source": [
    "import matplotlib.pyplot as plt\n",
    "import seaborn as sns\n",
    "sns.set()"
   ]
  },
  {
   "cell_type": "code",
   "execution_count": null,
   "metadata": {},
   "outputs": [],
   "source": [
    "def plot_by_woe(df_WoE, rotation_of_x_axis_labels = 0):\n",
    "    x = np.array(df_WoE.iloc[: , 0].apply(str))\n",
    "    y = df_WoE['WoE']\n",
    "    plt.figure(figsize = (18, 6))\n",
    "    plt.plot(x, y, marker = 'o', linestyle = '--', color = 'k')\n",
    "    plt.xlabel(df_WoE.columns[0])\n",
    "    plt.ylabel('Weight of Evidence')\n",
    "    plt.title(str('Weight of Evidence by ' + df_WoE.columns[0]))\n",
    "    plt.xticks(rotation = rotation_of_x_axis_labels)"
   ]
  },
  {
   "cell_type": "code",
   "execution_count": null,
   "metadata": {},
   "outputs": [],
   "source": [
    "plot_by_woe(df_temp)"
   ]
  },
  {
   "cell_type": "markdown",
   "metadata": {},
   "source": [
    "### *home_ownership*\n",
    "\n",
    "for this home ownership there is no need to account other rent any none status of home_ownership separatly we can merge them into one so we will be having other_rent_any_none, own , mortgage these three variable. we decided by graph below that other has lesser value"
   ]
  },
  {
   "cell_type": "code",
   "execution_count": null,
   "metadata": {},
   "outputs": [],
   "source": [
    "df_temp = woe_discrete(df_inputs_prepr,'home_ownership',df_targets_prepr)\n",
    "df_temp"
   ]
  },
  {
   "cell_type": "code",
   "execution_count": null,
   "metadata": {},
   "outputs": [],
   "source": [
    "df_temp['home_ownership'].value_counts()"
   ]
  },
  {
   "cell_type": "code",
   "execution_count": null,
   "metadata": {},
   "outputs": [],
   "source": [
    "plot_by_woe(df_temp)"
   ]
  },
  {
   "cell_type": "code",
   "execution_count": null,
   "metadata": {},
   "outputs": [],
   "source": [
    "df_inputs_prepr['home_ownership:RENT_OTHER_NONE_ANY'] = sum([df_inputs_prepr['home_ownership RENT'], df_inputs_prepr['home_ownership OTHER'],\n",
    "                                                            df_inputs_prepr['home_ownership NONE'], df_inputs_prepr['home_ownership ANY']])"
   ]
  },
  {
   "cell_type": "code",
   "execution_count": null,
   "metadata": {},
   "outputs": [],
   "source": [
    "df_inputs_prepr.columns.values"
   ]
  },
  {
   "cell_type": "markdown",
   "metadata": {},
   "source": [
    "### *addr_state*"
   ]
  },
  {
   "cell_type": "code",
   "execution_count": null,
   "metadata": {},
   "outputs": [],
   "source": [
    "df_inputs_prepr['addr_state'].sort_values().unique()"
   ]
  },
  {
   "cell_type": "code",
   "execution_count": null,
   "metadata": {},
   "outputs": [],
   "source": [
    "df_temp = woe_discrete(df_inputs_prepr, 'addr_state', df_targets_prepr)"
   ]
  },
  {
   "cell_type": "code",
   "execution_count": null,
   "metadata": {},
   "outputs": [],
   "source": [
    "df_temp"
   ]
  },
  {
   "cell_type": "code",
   "execution_count": null,
   "metadata": {},
   "outputs": [],
   "source": [
    "plot_by_woe(df_temp)"
   ]
  },
  {
   "cell_type": "code",
   "execution_count": null,
   "metadata": {},
   "outputs": [],
   "source": [
    "if ['addr_state ND'] in df_inputs_prepr.columns.values:\n",
    "    pass\n",
    "else :\n",
    "    print('ok')\n",
    "    df_inputs_prepr['addr_state:ND'] = 0"
   ]
  },
  {
   "cell_type": "code",
   "execution_count": null,
   "metadata": {},
   "outputs": [],
   "source": [
    "plot_by_woe(df_temp.iloc[2: -2,:])"
   ]
  },
  {
   "cell_type": "code",
   "execution_count": null,
   "metadata": {},
   "outputs": [],
   "source": [
    "plot_by_woe(df_temp.iloc[6 : -6, :])"
   ]
  },
  {
   "cell_type": "code",
   "execution_count": null,
   "metadata": {},
   "outputs": [],
   "source": [
    "df_inputs_prepr['addr_state'].sort_values().unique()"
   ]
  },
  {
   "cell_type": "code",
   "execution_count": null,
   "metadata": {},
   "outputs": [],
   "source": [
    "df_inputs_prepr['addr_state:NE_IA_MS_MT_TN_RI_ND'] = sum([df_inputs_prepr['addr_state:NE'],df_inputs_prepr['addr_state:IA'], df_inputs_prepr['addr_state:MS'],df_inputs_prepr['addr_state:MT'],df_inputs_prepr['addr_state:TN'],df_inputs_prepr['addr_state:RI'],df_inputs_prepr['addr_state:ND']])\n",
    "df_inputs_prepr['addr_state:NV_LA'] = sum([df_inputs_prepr['addr_state:NV'],df_inputs_prepr['addr_state:LA']])\n",
    "df_inputs_prepr['addr_state:HI_SD'] = sum([df_inputs_prepr['addr_state:HI'],df_inputs_prepr['addr_state:SD'],])\n",
    "df_inputs_prepr['addr_state:AZ_PA_OK'] = sum([df_inputs_prepr['addr_state:AZ'],df_inputs_prepr['addr_state:PA'],df_inputs_prepr['addr_state:OK']])\n",
    "df_inputs_prepr['addr_state:MD_FL_VA_MA'] = sum([df_inputs_prepr['addr_state:MD'],df_inputs_prepr['addr_state:FL'],df_inputs_prepr['addr_state:VA'],df_inputs_prepr['addr_state:MA']])\n",
    "df_inputs_prepr['addr_state:AR_DE_WV_MO_IN'] = sum([df_inputs_prepr['addr_state:AR'],df_inputs_prepr['addr_state:DE'],df_inputs_prepr['addr_state:WV'],df_inputs_prepr['addr_state:MO'],df_inputs_prepr['addr_state:IN']])\n",
    "df_inputs_prepr['addr_state:OH_NC'] = sum([df_inputs_prepr['addr_state:OH'],df_inputs_prepr['addr_state:NC']])\n",
    "df_inputs_prepr['addr_state:AL_MI'] = sum([df_inputs_prepr['addr_state:AL'],df_inputs_prepr['addr_state:MI']])\n",
    "df_inputs_prepr['addr_state:TX_NJ_GA'] = sum([df_inputs_prepr['addr_state:TX'],df_inputs_prepr['addr_state:NJ'],df_inputs_prepr['addr_state:GA']])\n",
    "df_inputs_prepr['addr_state:AK_WI'] = sum([df_inputs_prepr['addr_state:AK'],df_inputs_prepr['addr_state:WI']])\n",
    "df_inputs_prepr['addr_state:WA_CT'] = sum([df_inputs_prepr['addr_state:WA'],df_inputs_prepr['addr_state:CT']])\n",
    "df_inputs_prepr['addr_state:NH_KS_DC_WY_ME_ID'] = sum([df_inputs_prepr['addr_state:NH'],df_inputs_prepr['addr_state:KS'],df_inputs_prepr['addr_state:DC'],df_inputs_prepr['addr_state:WY'],df_inputs_prepr['addr_state:ID']])"
   ]
  },
  {
   "cell_type": "code",
   "execution_count": null,
   "metadata": {},
   "outputs": [],
   "source": [
    "df_inputs_prepr.columns.values"
   ]
  },
  {
   "cell_type": "markdown",
   "metadata": {},
   "source": [
    "## *verification_status*"
   ]
  },
  {
   "cell_type": "code",
   "execution_count": null,
   "metadata": {},
   "outputs": [],
   "source": [
    "df_inputs_prepr['verification_status'].unique()"
   ]
  },
  {
   "cell_type": "code",
   "execution_count": null,
   "metadata": {},
   "outputs": [],
   "source": [
    "df_temp = woe_discrete(df_inputs_prepr,'verification_status',df_targets_prepr)"
   ]
  },
  {
   "cell_type": "code",
   "execution_count": null,
   "metadata": {},
   "outputs": [],
   "source": [
    "plot_by_woe(df_temp)"
   ]
  },
  {
   "cell_type": "code",
   "execution_count": null,
   "metadata": {},
   "outputs": [],
   "source": [
    "df_inputs_prepr['initial_list_status:f'].unique()"
   ]
  },
  {
   "cell_type": "markdown",
   "metadata": {},
   "source": [
    "## *purpose*"
   ]
  },
  {
   "cell_type": "code",
   "execution_count": null,
   "metadata": {},
   "outputs": [],
   "source": [
    "df_inputs_prepr['purpose'].unique()"
   ]
  },
  {
   "cell_type": "code",
   "execution_count": null,
   "metadata": {},
   "outputs": [],
   "source": [
    "df_temp = woe_discrete(df_inputs_prepr, 'purpose', df_targets_prepr )\n",
    "df_temp"
   ]
  },
  {
   "cell_type": "code",
   "execution_count": null,
   "metadata": {},
   "outputs": [],
   "source": [
    "plot_by_woe(df_temp,90)"
   ]
  },
  {
   "cell_type": "code",
   "execution_count": null,
   "metadata": {},
   "outputs": [],
   "source": [
    "df_temp['purpose'].unique()"
   ]
  },
  {
   "cell_type": "code",
   "execution_count": null,
   "metadata": {},
   "outputs": [],
   "source": [
    "df_inputs_prepr['purpose:edu_small_house_mov'] = sum([df_inputs_prepr['purpose:educational'],df_inputs_prepr['purpose:small_business'],df_inputs_prepr['purpose:house'],df_inputs_prepr['purpose:moving']])\n",
    "df_inputs_prepr['purpose:other_med'] = sum([df_inputs_prepr['purpose:other'],df_inputs_prepr['purpose:medical']])\n",
    "df_inputs_prepr['purpose:debt'] = sum([df_inputs_prepr['purpose:debt_consolidation']])\n",
    "df_inputs_prepr['purpose:_vaca_credit'] = sum([df_inputs_prepr['purpose:home_improvement'],df_inputs_prepr['purpose:vacation'],df_inputs_prepr['purpose:credit_card']])\n",
    "df_inputs_prepr['purpose:major_rene_car_wedd'] = sum([df_inputs_prepr['purpose:major_purchase'],df_inputs_prepr['purpose:renewable_energy'],df_inputs_prepr['purpose:car'],df_inputs_prepr['purpose:wedding']])"
   ]
  },
  {
   "cell_type": "code",
   "execution_count": null,
   "metadata": {},
   "outputs": [],
   "source": [
    "df_inputs_prepr.columns.values"
   ]
  },
  {
   "cell_type": "markdown",
   "metadata": {},
   "source": [
    "## *Initail list status*"
   ]
  },
  {
   "cell_type": "code",
   "execution_count": null,
   "metadata": {},
   "outputs": [],
   "source": [
    "# 'initial_list_status'\n",
    "df_temp = woe_discrete(df_inputs_prepr, 'initial_list_status', df_targets_prepr)\n",
    "df_temp"
   ]
  },
  {
   "cell_type": "code",
   "execution_count": null,
   "metadata": {},
   "outputs": [],
   "source": [
    "plot_by_woe(df_temp)\n",
    "# We plot the weight of evidence values."
   ]
  },
  {
   "cell_type": "markdown",
   "metadata": {},
   "source": [
    "## Turning continuous variable\n",
    "\n",
    "* We use values of columns to sort it, unlike in discirte variable we use WoE."
   ]
  },
  {
   "cell_type": "code",
   "execution_count": null,
   "metadata": {},
   "outputs": [],
   "source": [
    "def woe_ordered_continous(df, discrete_variabe_name, good_bad_variable_df):\n",
    "    df = pd.concat([df[discrete_variabe_name], good_bad_variable_df], axis = 1)\n",
    "    df = pd.concat([df.groupby(df.columns.values[0], as_index = False)[df.columns.values[1]].count(),\n",
    "                    df.groupby(df.columns.values[0], as_index = False)[df.columns.values[1]].mean()], axis = 1)\n",
    "    df = df.iloc[:, [0, 1, 3]]\n",
    "    df.columns = [df.columns.values[0], 'n_obs', 'prop_good']\n",
    "    df['prop_n_obs'] = df['n_obs'] / df['n_obs'].sum()\n",
    "    df['n_good'] = df['prop_good'] * df['n_obs']\n",
    "    df['n_bad'] = (1 - df['prop_good']) * df['n_obs']\n",
    "    df['prop_n_good'] = df['n_good'] / df['n_good'].sum()\n",
    "    df['prop_n_bad'] = df['n_bad'] / df['n_bad'].sum()\n",
    "    df['WoE'] = np.log(df['prop_n_good'] / df['prop_n_bad'])\n",
    "    # df = df.sort_values(['WoE'])\n",
    "    # df = df.reset_index(drop = True)\n",
    "    df['diff_prop_good'] = df['prop_good'].diff().abs()\n",
    "    df['diff_WoE'] = df['WoE'].diff().abs()\n",
    "    df['IV'] = (df['prop_n_good'] - df['prop_n_bad']) * df['WoE']\n",
    "    df['IV'] = df['IV'].sum()\n",
    "    return df"
   ]
  },
  {
   "cell_type": "markdown",
   "metadata": {},
   "source": [
    "### *term_int*"
   ]
  },
  {
   "cell_type": "code",
   "execution_count": null,
   "metadata": {},
   "outputs": [],
   "source": [
    "df_inputs_prepr['term_int'].unique()"
   ]
  },
  {
   "cell_type": "code",
   "execution_count": null,
   "metadata": {},
   "outputs": [],
   "source": [
    "df_temp = woe_ordered_continous(df_inputs_prepr,'term_int',df_targets_prepr)\n",
    "df_temp"
   ]
  },
  {
   "cell_type": "code",
   "execution_count": null,
   "metadata": {},
   "outputs": [],
   "source": [
    "plot_by_woe(df_temp)"
   ]
  },
  {
   "cell_type": "markdown",
   "metadata": {},
   "source": [
    "* it means 60 months are more risker than 36 months of loans (to be default)"
   ]
  },
  {
   "cell_type": "code",
   "execution_count": null,
   "metadata": {},
   "outputs": [],
   "source": [
    "df_inputs_prepr['term_int:36'] =  np.where((df_inputs_prepr['term_int']==36),1,0)"
   ]
  },
  {
   "cell_type": "code",
   "execution_count": null,
   "metadata": {},
   "outputs": [],
   "source": [
    "df_inputs_prepr['term_int:60'] =  np.where((df_inputs_prepr['term_int']==60),1,0)"
   ]
  },
  {
   "cell_type": "markdown",
   "metadata": {},
   "source": [
    "### *emp_length_int*"
   ]
  },
  {
   "cell_type": "code",
   "execution_count": null,
   "metadata": {},
   "outputs": [],
   "source": [
    "df_inputs_prepr['emp_length_int'].unique()"
   ]
  },
  {
   "cell_type": "code",
   "execution_count": null,
   "metadata": {},
   "outputs": [],
   "source": [
    "df_temp = woe_ordered_continous(df_inputs_prepr,'emp_length_int',df_targets_prepr)\n",
    "df_temp"
   ]
  },
  {
   "cell_type": "code",
   "execution_count": null,
   "metadata": {},
   "outputs": [],
   "source": [
    "plot_by_woe(df_temp)"
   ]
  },
  {
   "cell_type": "code",
   "execution_count": null,
   "metadata": {},
   "outputs": [],
   "source": [
    "df_inputs_prepr['emp_length_int:0']= np.where(df_inputs_prepr['emp_length_int'].isin([0]),1,0)\n",
    "df_inputs_prepr['emp_length_int:1']= np.where(df_inputs_prepr['emp_length_int'].isin([1]),1,0)\n",
    "df_inputs_prepr['emp_length_int:2-3']= np.where(df_inputs_prepr['emp_length_int'].isin(range(2,3)),1,0)\n",
    "df_inputs_prepr['emp_length_int:4-5']= np.where(df_inputs_prepr['emp_length_int'].isin(range(4,5)),1,0)\n",
    "df_inputs_prepr['emp_length_int:6-8']= np.where(df_inputs_prepr['emp_length_int'].isin(range(6,8)),1,0)\n",
    "df_inputs_prepr['emp_length_int:9']= np.where(df_inputs_prepr['emp_length_int'].isin([9]),1,0)\n",
    "df_inputs_prepr['emp_length_int:10']= np.where(df_inputs_prepr['emp_length_int'].isin([10]),1,0)"
   ]
  },
  {
   "cell_type": "markdown",
   "metadata": {},
   "source": [
    "## *months_issue_date*"
   ]
  },
  {
   "cell_type": "code",
   "execution_count": null,
   "metadata": {},
   "outputs": [],
   "source": [
    "df_inputs_prepr['months_issue_date'].unique()"
   ]
  },
  {
   "cell_type": "markdown",
   "metadata": {},
   "source": [
    "> factor is common term for catogery"
   ]
  },
  {
   "cell_type": "code",
   "execution_count": null,
   "metadata": {},
   "outputs": [],
   "source": [
    "df_inputs_prepr['mths_since_issue_d_factor'] = pd.cut(df_inputs_prepr['months_issue_date'],50)"
   ]
  },
  {
   "cell_type": "code",
   "execution_count": null,
   "metadata": {},
   "outputs": [],
   "source": [
    "df_inputs_prepr['mths_since_issue_d_factor']"
   ]
  },
  {
   "cell_type": "code",
   "execution_count": null,
   "metadata": {},
   "outputs": [],
   "source": [
    "df_temp = woe_ordered_continous(df_inputs_prepr,'mths_since_issue_d_factor',df_targets_prepr)\n",
    "df_temp"
   ]
  },
  {
   "cell_type": "code",
   "execution_count": null,
   "metadata": {},
   "outputs": [],
   "source": [
    "plot_by_woe(df_temp,90)"
   ]
  },
  {
   "cell_type": "code",
   "execution_count": null,
   "metadata": {},
   "outputs": [],
   "source": [
    "plot_by_woe(df_temp.iloc[3:,:],90)"
   ]
  },
  {
   "cell_type": "code",
   "execution_count": null,
   "metadata": {},
   "outputs": [],
   "source": [
    "df_inputs_prepr['months_issue_date:<38'] = np.where(df_inputs_prepr['months_issue_date'].isin(range(38)),1,0)\n",
    "df_inputs_prepr['months_issue_date:40-49'] = np.where(df_inputs_prepr['months_issue_date'].isin(range(38,49)),1,0)\n",
    "df_inputs_prepr['months_issue_date:49-56'] = np.where(df_inputs_prepr['months_issue_date'].isin(range(49,56)),1,0)\n",
    "df_inputs_prepr['months_issue_date:56-60'] = np.where(df_inputs_prepr['months_issue_date'].isin(range(56,60)),1,0)\n",
    "df_inputs_prepr['months_issue_date:60-66'] = np.where(df_inputs_prepr['months_issue_date'].isin(range(60,66)),1,0)\n",
    "df_inputs_prepr['months_issue_date:66-74'] = np.where(df_inputs_prepr['months_issue_date'].isin(range(66,74)),1,0)\n",
    "df_inputs_prepr['months_issue_date:74-82'] = np.where(df_inputs_prepr['months_issue_date'].isin(range(74,82)),1,0)\n",
    "df_inputs_prepr['months_issue_date:>82'] = np.where(df_inputs_prepr['months_issue_date'].isin(range(82, int(df_inputs_prepr['months_issue_date'].max()))),1,0)"
   ]
  },
  {
   "cell_type": "markdown",
   "metadata": {},
   "source": [
    "## *int_rate*"
   ]
  },
  {
   "cell_type": "code",
   "execution_count": null,
   "metadata": {},
   "outputs": [],
   "source": [
    "df_inputs_prepr['int_rate'].unique()"
   ]
  },
  {
   "cell_type": "code",
   "execution_count": null,
   "metadata": {},
   "outputs": [],
   "source": [
    "df_inputs_prepr['int_rate_factor'] = pd.cut(df_inputs_prepr['int_rate'],50)"
   ]
  },
  {
   "cell_type": "code",
   "execution_count": null,
   "metadata": {},
   "outputs": [],
   "source": [
    "df_temp = woe_ordered_continous(df_inputs_prepr,'int_rate_factor',df_targets_prepr)\n",
    "df_temp"
   ]
  },
  {
   "cell_type": "code",
   "execution_count": null,
   "metadata": {},
   "outputs": [],
   "source": [
    "plot_by_woe(df_temp,90)"
   ]
  },
  {
   "cell_type": "markdown",
   "metadata": {},
   "source": [
    "> From the graph it is concluded that higher the interest, higher the probalitiy to get default"
   ]
  },
  {
   "cell_type": "code",
   "execution_count": null,
   "metadata": {},
   "outputs": [],
   "source": [
    "df_inputs_prepr['int_rate:<7.071'] = np.where((df_inputs_prepr['int_rate']<= 7.071),1,0)\n",
    "df_inputs_prepr['int_rate:7.071-11.199'] = np.where((df_inputs_prepr['int_rate']>7.071)&(df_inputs_prepr['int_rate']<11.199),1,0)\n",
    "df_inputs_prepr['int_rate:11.199-13.263'] = np.where((df_inputs_prepr['int_rate']>11.199)&(df_inputs_prepr['int_rate']<13.263),1,0)\n",
    "df_inputs_prepr['int_rate:13.263-15.327'] = np.where((df_inputs_prepr['int_rate']>13.263)&(df_inputs_prepr['int_rate']<15.327),1,0)\n",
    "df_inputs_prepr['int_rate:15.327-19.868'] = np.where((df_inputs_prepr['int_rate']>15.327)&(df_inputs_prepr['int_rate']<19.868),1,0)\n",
    "df_inputs_prepr['int_rate:19.868-25.234'] = np.where((df_inputs_prepr['int_rate']>19.868)&(df_inputs_prepr['int_rate']<25.234),1,0)\n",
    "df_inputs_prepr['int_rate:>25.324'] = np.where((df_inputs_prepr['int_rate']>25.234),1,0)"
   ]
  },
  {
   "cell_type": "markdown",
   "metadata": {},
   "source": [
    "## *funded_amt_factor*"
   ]
  },
  {
   "cell_type": "code",
   "execution_count": null,
   "metadata": {},
   "outputs": [],
   "source": [
    "df_inputs_prepr['funded_amt_factor'] = pd.cut(df_inputs_prepr['funded_amnt'],50)\n",
    "df_temp = woe_ordered_continous(df_inputs_prepr,'funded_amt_factor',df_targets_prepr)"
   ]
  },
  {
   "cell_type": "code",
   "execution_count": null,
   "metadata": {},
   "outputs": [],
   "source": [
    "df_temp"
   ]
  },
  {
   "cell_type": "code",
   "execution_count": null,
   "metadata": {},
   "outputs": [],
   "source": [
    "plot_by_woe(df_temp,90)"
   ]
  },
  {
   "cell_type": "markdown",
   "metadata": {},
   "source": [
    "> We will not consider this variable for PD model as it is flutuating around one line or it will result as a one line"
   ]
  },
  {
   "cell_type": "markdown",
   "metadata": {},
   "source": [
    "## *mths_since_earliest_cr_line*"
   ]
  },
  {
   "cell_type": "code",
   "execution_count": null,
   "metadata": {},
   "outputs": [],
   "source": [
    "df_inputs_prepr['mths_since_earliest_cr_line'].unique()"
   ]
  },
  {
   "cell_type": "code",
   "execution_count": null,
   "metadata": {},
   "outputs": [],
   "source": [
    "df_inputs_prepr['mths_since_earliest_cr_line_factor'] = pd.cut(df_inputs_prepr['mths_since_earliest_cr_line'],50)\n",
    "df_temp = woe_ordered_continous(df_inputs_prepr,'mths_since_earliest_cr_line_factor',df_targets_prepr)\n",
    "df_temp"
   ]
  },
  {
   "cell_type": "code",
   "execution_count": null,
   "metadata": {},
   "outputs": [],
   "source": [
    "plot_by_woe(df_temp,45)"
   ]
  },
  {
   "cell_type": "code",
   "execution_count": null,
   "metadata": {},
   "outputs": [],
   "source": [
    "plot_by_woe(df_temp.iloc[6:,:],90)"
   ]
  },
  {
   "cell_type": "code",
   "execution_count": null,
   "metadata": {},
   "outputs": [],
   "source": [
    "df_inputs_prepr['mths_since_earliest_cr_line_factor:<126'] = np.where(df_inputs_prepr['mths_since_earliest_cr_line_factor'].isin(range(127)),1,0)\n",
    "df_inputs_prepr['mths_since_earliest_cr_line_factor:126-173'] = np.where(df_inputs_prepr['mths_since_earliest_cr_line_factor'].isin(range(127,173)),1,0)\n",
    "df_inputs_prepr['mths_since_earliest_cr_line_factor:173-345'] = np.where(df_inputs_prepr['mths_since_earliest_cr_line_factor'].isin(range(173,345)),1,0)\n",
    "df_inputs_prepr['mths_since_earliest_cr_line_factor:345-438'] = np.where(df_inputs_prepr['mths_since_earliest_cr_line_factor'].isin(range(345,438)),1,0)\n",
    "df_inputs_prepr['mths_since_earliest_cr_line_factor:>438'] = np.where(df_inputs_prepr['mths_since_earliest_cr_line_factor'].isin(range(438, int(df_inputs_prepr['mths_since_earliest_cr_line'].max()))),1,0)"
   ]
  },
  {
   "cell_type": "markdown",
   "metadata": {},
   "source": [
    "## *installment*\n",
    "* it as numuberous data and cannot be used for pd model so not to use for pd model"
   ]
  },
  {
   "cell_type": "code",
   "execution_count": null,
   "metadata": {},
   "outputs": [],
   "source": [
    "df_inputs_prepr['installment_factor'] = pd.cut(df_inputs_prepr['installment'], 50)\n",
    "df_temp = woe_ordered_continous(df_inputs_prepr, 'installment_factor', df_targets_prepr)\n",
    "df_temp"
   ]
  },
  {
   "cell_type": "code",
   "execution_count": null,
   "metadata": {},
   "outputs": [],
   "source": [
    "plot_by_woe(df_temp,90)"
   ]
  },
  {
   "cell_type": "code",
   "execution_count": null,
   "metadata": {},
   "outputs": [],
   "source": [
    "# df_inputs_prepr['installment_factor:14-127'] =np.where((df_inputs_prepr['installment_factor']>=14.276) & (df_inputs_prepr['installment_factor']<=127.216),1,0)\n",
    "# df_inputs_prepr['installment_factor:127-517'] =np.where((df_inputs_prepr['installment_factor']>127.216) & (df_inputs_prepr['installment_factor']<=517.625),1,0)\n",
    "# df_inputs_prepr['installment_factor:517-684'] =np.where((df_inputs_prepr['installment_factor']>517.625) & (df_inputs_prepr['installment_factor']<=584.944),1,0)\n",
    "# df_inputs_prepr['installment_factor:684-1075'] =np.where((df_inputs_prepr['installment_factor']>584.944) & (df_inputs_prepr['installment_factor']<=1075.353),1,0)\n",
    "# df_inputs_prepr['installment_factor:1075-1298'] =np.where((df_inputs_prepr['installment_factor']>1075.353) & (df_inputs_prepr['installment_factor']<=1298.444),1,0)\n",
    "# df_inputs_prepr['installment_factor:>1298'] =np.where((df_inputs_prepr['installment_factor']>1298.444),1,0)"
   ]
  },
  {
   "cell_type": "markdown",
   "metadata": {},
   "source": [
    "## *delinq_2yrs*"
   ]
  },
  {
   "cell_type": "code",
   "execution_count": null,
   "metadata": {},
   "outputs": [],
   "source": [
    "df_inputs_prepr['delinq_2yrs'].unique()"
   ]
  },
  {
   "cell_type": "code",
   "execution_count": null,
   "metadata": {},
   "outputs": [],
   "source": [
    "df_temp = woe_ordered_continous(df_inputs_prepr,'delinq_2yrs',df_targets_prepr)\n",
    "df_temp"
   ]
  },
  {
   "cell_type": "code",
   "execution_count": null,
   "metadata": {},
   "outputs": [],
   "source": [
    "plot_by_woe(df_temp)"
   ]
  },
  {
   "cell_type": "code",
   "execution_count": null,
   "metadata": {},
   "outputs": [],
   "source": [
    "df_inputs_prepr['delinq_2yrs:0'] = np.where((df_inputs_prepr['delinq_2yrs']==0),1,0)\n",
    "df_inputs_prepr['delinq_2yrs:1-5'] = np.where((df_inputs_prepr['delinq_2yrs']>=1) & (df_inputs_prepr['delinq_2yrs'] <=5),1,0)\n",
    "df_inputs_prepr['delinq_2yrs:>=6'] = np.where((df_inputs_prepr['delinq_2yrs']>=6),1,0)"
   ]
  },
  {
   "cell_type": "markdown",
   "metadata": {},
   "source": [
    "## *inq_last_6mths*"
   ]
  },
  {
   "cell_type": "code",
   "execution_count": null,
   "metadata": {},
   "outputs": [],
   "source": [
    "df_inputs_prepr['inq_last_6mths'].unique()"
   ]
  },
  {
   "cell_type": "code",
   "execution_count": null,
   "metadata": {},
   "outputs": [],
   "source": [
    "df_temp = woe_ordered_continous(df_inputs_prepr,'inq_last_6mths',df_targets_prepr)\n",
    "df_temp"
   ]
  },
  {
   "cell_type": "code",
   "execution_count": null,
   "metadata": {},
   "outputs": [],
   "source": [
    "plot_by_woe(df_temp)"
   ]
  },
  {
   "cell_type": "code",
   "execution_count": null,
   "metadata": {},
   "outputs": [],
   "source": [
    "df_inputs_prepr['inq_last_6mths:0-3'] = np.where((df_inputs_prepr['inq_last_6mths']>=0)&(df_inputs_prepr['inq_last_6mths']<=3),1,0)\n",
    "df_inputs_prepr['inq_last_6mths:3-6'] = np.where((df_inputs_prepr['inq_last_6mths']>3)&(df_inputs_prepr['inq_last_6mths']<=6),1,0)\n",
    "df_inputs_prepr['inq_last_6mths:>6'] = np.where((df_inputs_prepr['inq_last_6mths']>6),1,0)"
   ]
  },
  {
   "cell_type": "markdown",
   "metadata": {},
   "source": [
    "## *open_acc*"
   ]
  },
  {
   "cell_type": "code",
   "execution_count": null,
   "metadata": {},
   "outputs": [],
   "source": [
    "df_inputs_prepr['open_acc'].unique()"
   ]
  },
  {
   "cell_type": "code",
   "execution_count": null,
   "metadata": {},
   "outputs": [],
   "source": [
    "df_temp = woe_ordered_continous(df_inputs_prepr,'open_acc',df_targets_prepr)\n",
    "df_temp"
   ]
  },
  {
   "cell_type": "code",
   "execution_count": null,
   "metadata": {},
   "outputs": [],
   "source": [
    "plot_by_woe(df_temp,90)"
   ]
  },
  {
   "cell_type": "code",
   "execution_count": null,
   "metadata": {},
   "outputs": [],
   "source": [
    "plot_by_woe(df_temp.iloc[:40,:],90)"
   ]
  },
  {
   "cell_type": "code",
   "execution_count": null,
   "metadata": {},
   "outputs": [],
   "source": [
    "df_inputs_prepr['open_acc:0'] = np.where((df_inputs_prepr['open_acc']==0),1,0)\n",
    "df_inputs_prepr['open_acc:1-4'] = np.where((df_inputs_prepr['open_acc']>=1) & (df_inputs_prepr['open_acc']<=4 ),1,0)\n",
    "df_inputs_prepr['open_acc:5-13'] = np.where((df_inputs_prepr['open_acc']>4) & (df_inputs_prepr['open_acc']<=13 ),1,0)\n",
    "df_inputs_prepr['open_acc:13-26'] = np.where((df_inputs_prepr['open_acc']>13) & (df_inputs_prepr['open_acc']<=26 ),1,0)\n",
    "df_inputs_prepr['open_acc:26-32'] = np.where((df_inputs_prepr['open_acc']>26) & (df_inputs_prepr['open_acc']<=32 ),1,0)\n",
    "df_inputs_prepr['open_acc:>32'] = np.where((df_inputs_prepr['open_acc']>32),1,0)"
   ]
  },
  {
   "cell_type": "markdown",
   "metadata": {},
   "source": [
    "## *pub_rec*"
   ]
  },
  {
   "cell_type": "code",
   "execution_count": null,
   "metadata": {},
   "outputs": [],
   "source": [
    "df_inputs_prepr['pub_rec'].unique()"
   ]
  },
  {
   "cell_type": "code",
   "execution_count": null,
   "metadata": {},
   "outputs": [],
   "source": [
    "df_temp = woe_ordered_continous(df_inputs_prepr,'pub_rec',df_targets_prepr)\n",
    "df_temp"
   ]
  },
  {
   "cell_type": "code",
   "execution_count": null,
   "metadata": {},
   "outputs": [],
   "source": [
    "plot_by_woe(df_temp)"
   ]
  },
  {
   "cell_type": "code",
   "execution_count": null,
   "metadata": {},
   "outputs": [],
   "source": [
    "df_inputs_prepr['pub_rec:0-2'] = np.where((df_inputs_prepr['pub_rec'] >=0) & (df_inputs_prepr['pub_rec']<=2),1,0)\n",
    "df_inputs_prepr['pub_rec:2-4'] = np.where((df_inputs_prepr['pub_rec']>2) & (df_inputs_prepr['pub_rec']<=4),1,0)\n",
    "df_inputs_prepr['pub_rec:>5'] = np.where((df_inputs_prepr['pub_rec']>5),1,0)"
   ]
  },
  {
   "cell_type": "markdown",
   "metadata": {},
   "source": [
    "## *total_acc*"
   ]
  },
  {
   "cell_type": "code",
   "execution_count": null,
   "metadata": {},
   "outputs": [],
   "source": [
    "df_inputs_prepr['total_acc'].unique()"
   ]
  },
  {
   "cell_type": "code",
   "execution_count": null,
   "metadata": {},
   "outputs": [],
   "source": [
    "df_inputs_prepr['total_acc_factor'] = pd.cut(df_inputs_prepr['total_acc'],50)\n",
    "df_temp = woe_ordered_continous(df_inputs_prepr,'total_acc_factor',df_targets_prepr)\n",
    "df_temp"
   ]
  },
  {
   "cell_type": "code",
   "execution_count": null,
   "metadata": {},
   "outputs": [],
   "source": [
    "plot_by_woe(df_temp,90)"
   ]
  },
  {
   "cell_type": "code",
   "execution_count": null,
   "metadata": {},
   "outputs": [],
   "source": [
    "plot_by_woe(df_temp,90)"
   ]
  },
  {
   "cell_type": "code",
   "execution_count": null,
   "metadata": {},
   "outputs": [],
   "source": [
    "df_inputs_prepr['total_acc:<=27'] = np.where((df_inputs_prepr['total_acc'] <= 27), 1, 0)\n",
    "df_inputs_prepr['total_acc:27-51'] = np.where((df_inputs_prepr['total_acc'] > 27) & (df_inputs_prepr['total_acc'] <= 51), 1, 0)\n",
    "df_inputs_prepr['total_acc:>=51'] = np.where((df_inputs_prepr['total_acc'] > 51), 1, 0)"
   ]
  },
  {
   "cell_type": "markdown",
   "metadata": {},
   "source": [
    "## *acc_now_delinq*"
   ]
  },
  {
   "cell_type": "code",
   "execution_count": null,
   "metadata": {},
   "outputs": [],
   "source": [
    "df_inputs_prepr['acc_now_delinq'].unique()"
   ]
  },
  {
   "cell_type": "code",
   "execution_count": null,
   "metadata": {},
   "outputs": [],
   "source": [
    "df_temp = woe_ordered_continous(df_inputs_prepr,'acc_now_delinq',df_targets_prepr)\n",
    "df_temp"
   ]
  },
  {
   "cell_type": "code",
   "execution_count": null,
   "metadata": {},
   "outputs": [],
   "source": [
    "plot_by_woe(df_temp)"
   ]
  },
  {
   "cell_type": "code",
   "execution_count": null,
   "metadata": {},
   "outputs": [],
   "source": [
    "df_inputs_prepr['acc_now_delinq:0'] = np.where((df_inputs_prepr['acc_now_delinq'] == 0), 1, 0)\n",
    "df_inputs_prepr['acc_now_delinq:>=1'] = np.where((df_inputs_prepr['acc_now_delinq'] >= 1), 1, 0)"
   ]
  },
  {
   "cell_type": "markdown",
   "metadata": {},
   "source": [
    "## *total_rev_hi_lim_factor*"
   ]
  },
  {
   "cell_type": "code",
   "execution_count": null,
   "metadata": {},
   "outputs": [],
   "source": [
    "df_inputs_prepr['total_rev_hi_lim'].unique()"
   ]
  },
  {
   "cell_type": "code",
   "execution_count": null,
   "metadata": {},
   "outputs": [],
   "source": [
    "df_inputs_prepr['total_rev_hi_lim_factor'] = pd.cut(df_inputs_prepr['total_rev_hi_lim'],50)\n",
    "df_temp = woe_ordered_continous(df_inputs_prepr,'total_rev_hi_lim_factor',df_targets_prepr)\n",
    "df_temp"
   ]
  },
  {
   "cell_type": "code",
   "execution_count": null,
   "metadata": {},
   "outputs": [],
   "source": [
    "plot_by_woe(df_temp)"
   ]
  },
  {
   "cell_type": "code",
   "execution_count": null,
   "metadata": {},
   "outputs": [],
   "source": [
    "df_inputs_prepr['total_rev_hi_lim:<=5K'] = np.where((df_inputs_prepr['total_rev_hi_lim'] <= 5000), 1, 0)\n",
    "df_inputs_prepr['total_rev_hi_lim:5K-10K'] = np.where((df_inputs_prepr['total_rev_hi_lim'] > 5000) & (df_inputs_prepr['total_rev_hi_lim'] <= 10000), 1, 0)\n",
    "df_inputs_prepr['total_rev_hi_lim:10K-20K'] = np.where((df_inputs_prepr['total_rev_hi_lim'] > 10000) & (df_inputs_prepr['total_rev_hi_lim'] <= 20000), 1, 0)\n",
    "df_inputs_prepr['total_rev_hi_lim:20K-30K'] = np.where((df_inputs_prepr['total_rev_hi_lim'] > 20000) & (df_inputs_prepr['total_rev_hi_lim'] <= 30000), 1, 0)\n",
    "df_inputs_prepr['total_rev_hi_lim:30K-40K'] = np.where((df_inputs_prepr['total_rev_hi_lim'] > 30000) & (df_inputs_prepr['total_rev_hi_lim'] <= 40000), 1, 0)\n",
    "df_inputs_prepr['total_rev_hi_lim:40K-55K'] = np.where((df_inputs_prepr['total_rev_hi_lim'] > 40000) & (df_inputs_prepr['total_rev_hi_lim'] <= 55000), 1, 0)\n",
    "df_inputs_prepr['total_rev_hi_lim:55K-95K'] = np.where((df_inputs_prepr['total_rev_hi_lim'] > 55000) & (df_inputs_prepr['total_rev_hi_lim'] <= 95000), 1, 0)\n",
    "df_inputs_prepr['total_rev_hi_lim:>95K'] = np.where((df_inputs_prepr['total_rev_hi_lim'] > 95000), 1, 0)"
   ]
  },
  {
   "cell_type": "markdown",
   "metadata": {},
   "source": [
    "## *annual_inc_factor*"
   ]
  },
  {
   "cell_type": "code",
   "execution_count": null,
   "metadata": {},
   "outputs": [],
   "source": [
    "df_inputs_prepr['annual_inc_factor'] = pd.cut(df_inputs_prepr['annual_inc'],50)"
   ]
  },
  {
   "cell_type": "code",
   "execution_count": null,
   "metadata": {},
   "outputs": [],
   "source": [
    "df_temp = woe_ordered_continous(df_inputs_prepr,'annual_inc_factor',df_targets_prepr)\n",
    "df_temp"
   ]
  },
  {
   "cell_type": "code",
   "execution_count": null,
   "metadata": {},
   "outputs": [],
   "source": [
    "df_inputs_prepr['annual_inc_factor'] = pd.cut(df_inputs_prepr['annual_inc'],100)\n",
    "df_temp = woe_ordered_continous(df_inputs_prepr,'annual_inc_factor',df_targets_prepr)\n",
    "df_temp"
   ]
  },
  {
   "cell_type": "code",
   "execution_count": null,
   "metadata": {},
   "outputs": [],
   "source": [
    "plot_by_woe(df_temp,90)"
   ]
  },
  {
   "cell_type": "code",
   "execution_count": null,
   "metadata": {},
   "outputs": [],
   "source": [
    "df_inputs_prepr_temp = df_inputs_prepr.loc[df_inputs_prepr['annual_inc']<=140000,:]"
   ]
  },
  {
   "cell_type": "code",
   "execution_count": null,
   "metadata": {},
   "outputs": [],
   "source": [
    "df_inputs_prepr_temp['annual_inc_factor'] = pd.cut(df_inputs_prepr_temp['annual_inc'],50)\n",
    "df_temp = woe_ordered_continous(df_inputs_prepr_temp,'annual_inc_factor',df_targets_prepr[df_inputs_prepr_temp.index])\n",
    "df_temp"
   ]
  },
  {
   "cell_type": "code",
   "execution_count": null,
   "metadata": {},
   "outputs": [],
   "source": [
    "plot_by_woe(df_temp,90)"
   ]
  },
  {
   "cell_type": "code",
   "execution_count": null,
   "metadata": {},
   "outputs": [],
   "source": [
    "df_inputs_prepr['annual_inc:<20K'] = np.where((df_inputs_prepr['annual_inc']<=20000),1,0)\n",
    "df_inputs_prepr['annual_inc:20K-30K'] = np.where((df_inputs_prepr['annual_inc']>20000) & (df_inputs_prepr['annual_inc']<=30000),1,0)\n",
    "df_inputs_prepr['annual_inc:30K-40K'] = np.where((df_inputs_prepr['annual_inc']>30000) & (df_inputs_prepr['annual_inc']<=40000),1,0)\n",
    "df_inputs_prepr['annual_inc:40K-50K'] = np.where((df_inputs_prepr['annual_inc']>40000) & (df_inputs_prepr['annual_inc']<=50000),1,0)\n",
    "df_inputs_prepr['annual_inc:50K-60K'] = np.where((df_inputs_prepr['annual_inc']>50000) & (df_inputs_prepr['annual_inc']<=60000),1,0)\n",
    "df_inputs_prepr['annual_inc:60K-70K'] = np.where((df_inputs_prepr['annual_inc']>60000) & (df_inputs_prepr['annual_inc']<=70000),1,0)\n",
    "df_inputs_prepr['annual_inc:70K-80K'] = np.where((df_inputs_prepr['annual_inc']>70000) & (df_inputs_prepr['annual_inc']<=80000),1,0)\n",
    "df_inputs_prepr['annual_inc:80K-90K'] = np.where((df_inputs_prepr['annual_inc']>80000) & (df_inputs_prepr['annual_inc']<=90000),1,0)\n",
    "df_inputs_prepr['annual_inc:90K-100K'] = np.where((df_inputs_prepr['annual_inc']>90000) & (df_inputs_prepr['annual_inc']<=100000),1,0)\n",
    "df_inputs_prepr['annual_inc:100K-120K'] = np.where((df_inputs_prepr['annual_inc']>100000) & (df_inputs_prepr['annual_inc']<=120000),1,0)\n",
    "df_inputs_prepr['annual_inc:120K-140K'] = np.where((df_inputs_prepr['annual_inc']>120000) & (df_inputs_prepr['annual_inc']<=140000),1,0)\n",
    "df_inputs_prepr['annual_inc:>140K'] = np.where((df_inputs_prepr['annual_inc']>140000),1,0)"
   ]
  },
  {
   "cell_type": "markdown",
   "metadata": {},
   "source": [
    "### *mths_since_last_delinq*"
   ]
  },
  {
   "cell_type": "code",
   "execution_count": null,
   "metadata": {},
   "outputs": [],
   "source": [
    "df_inputs_prepr_temp = df_inputs_prepr[pd.notnull(df_inputs_prepr['mths_since_last_delinq'])]\n",
    "df_inputs_prepr_temp['mths_since_last_delinq_factor'] = pd.cut(df_inputs_prepr_temp['mths_since_last_delinq'],50)\n",
    "df_temp = woe_ordered_continous(df_inputs_prepr_temp,'mths_since_last_delinq_factor',df_targets_prepr[df_inputs_prepr_temp.index])\n",
    "df_temp"
   ]
  },
  {
   "cell_type": "code",
   "execution_count": null,
   "metadata": {},
   "outputs": [],
   "source": [
    "plot_by_woe(df_temp,90)"
   ]
  },
  {
   "cell_type": "code",
   "execution_count": null,
   "metadata": {},
   "outputs": [],
   "source": [
    "df_inputs_prepr['mths_since_last_delinq:Missing']= np.where((df_inputs_prepr['mths_since_last_delinq'].isnull()),1,0)\n",
    "df_inputs_prepr['mths_since_last_delinq:0-3'] = np.where((df_inputs_prepr['mths_since_last_delinq']>=0)&(df_inputs_prepr['mths_since_last_delinq']<=3.76),1,0)\n",
    "df_inputs_prepr['mths_since_last_delinq:3-18'] = np.where((df_inputs_prepr['mths_since_last_delinq']>3.76)&(df_inputs_prepr['mths_since_last_delinq']<=18.8),1,0)\n",
    "df_inputs_prepr['mths_since_last_delinq:18-30'] = np.where((df_inputs_prepr['mths_since_last_delinq']>18.8)&(df_inputs_prepr['mths_since_last_delinq']<=30.08),1,0)\n",
    "df_inputs_prepr['mths_since_last_delinq:30-82'] = np.where((df_inputs_prepr['mths_since_last_delinq']>30.08)&(df_inputs_prepr['mths_since_last_delinq']<=82.72),1,0)\n",
    "df_inputs_prepr['mths_since_last_delinq:>82'] = np.where((df_inputs_prepr['mths_since_last_delinq']>82.72),1,0)"
   ]
  },
  {
   "cell_type": "markdown",
   "metadata": {},
   "source": [
    "## *dti_factor*"
   ]
  },
  {
   "cell_type": "code",
   "execution_count": null,
   "metadata": {},
   "outputs": [],
   "source": [
    "df_inputs_prepr['dti_factor'] = pd.cut(df_inputs_prepr['dti'],100)\n",
    "df_temp = woe_ordered_continous(df_inputs_prepr,'dti_factor',df_targets_prepr)\n",
    "df_temp"
   ]
  },
  {
   "cell_type": "code",
   "execution_count": null,
   "metadata": {},
   "outputs": [],
   "source": [
    "plot_by_woe(df_temp,90)"
   ]
  },
  {
   "cell_type": "code",
   "execution_count": null,
   "metadata": {},
   "outputs": [],
   "source": [
    "df_inputs_prepr['dti:<=1.2'] = np.where((df_inputs_prepr['dti'] <= 1.2), 1, 0)\n",
    "df_inputs_prepr['dti:1.2-4.3'] = np.where((df_inputs_prepr['dti'] > 1.2) & (df_inputs_prepr['dti'] <= 4.399), 1, 0)\n",
    "df_inputs_prepr['dti:4.3-13.9'] = np.where((df_inputs_prepr['dti'] > 4.399) & (df_inputs_prepr['dti'] <= 13.997), 1, 0)\n",
    "df_inputs_prepr['dti:13.9-21.9'] = np.where((df_inputs_prepr['dti'] > 13.997) & (df_inputs_prepr['dti'] <= 21.995), 1, 0)\n",
    "df_inputs_prepr['dti:21.9-27.9'] = np.where((df_inputs_prepr['dti'] > 21.995) & (df_inputs_prepr['dti'] <= 27.993), 1, 0)\n",
    "df_inputs_prepr['dti:27.9-30.7'] = np.where((df_inputs_prepr['dti'] > 27.993) & (df_inputs_prepr['dti'] <= 30.792), 1, 0)\n",
    "df_inputs_prepr['dti:30.7-34.7'] = np.where((df_inputs_prepr['dti'] > 30.792) & (df_inputs_prepr['dti'] <= 34.791), 1, 0)\n",
    "df_inputs_prepr['dti:>34.7'] = np.where((df_inputs_prepr['dti'] > 34.791), 1, 0)"
   ]
  },
  {
   "cell_type": "markdown",
   "metadata": {},
   "source": [
    "## *mths_since_last_record*"
   ]
  },
  {
   "cell_type": "code",
   "execution_count": null,
   "metadata": {},
   "outputs": [],
   "source": [
    "df_inputs_prepr_temp = df_inputs_prepr[pd.notnull(df_inputs_prepr['mths_since_last_record'])]\n",
    "df_inputs_prepr_temp['mths_since_last_record_factor'] = pd.cut(df_inputs_prepr_temp['mths_since_last_record'], 50)\n",
    "df_temp = woe_ordered_continous(df_inputs_prepr_temp, 'mths_since_last_record_factor', df_targets_prepr[df_inputs_prepr_temp.index])\n",
    "df_temp"
   ]
  },
  {
   "cell_type": "code",
   "execution_count": null,
   "metadata": {},
   "outputs": [],
   "source": [
    "plot_by_woe(df_temp, 90)"
   ]
  },
  {
   "cell_type": "code",
   "execution_count": null,
   "metadata": {},
   "outputs": [],
   "source": [
    "df_inputs_prepr['mths_since_last_record:Missing'] = np.where((df_inputs_prepr['mths_since_last_record'].isnull()), 1, 0)\n",
    "df_inputs_prepr['mths_since_last_record:0-2'] = np.where((df_inputs_prepr['mths_since_last_record'] >= 0) & (df_inputs_prepr['mths_since_last_record'] <= 2.42), 1, 0)\n",
    "df_inputs_prepr['mths_since_last_record:2-12'] = np.where((df_inputs_prepr['mths_since_last_record'] > 2.42) & (df_inputs_prepr['mths_since_last_record'] <= 12.1), 1, 0)\n",
    "df_inputs_prepr['mths_since_last_record:12-29'] = np.where((df_inputs_prepr['mths_since_last_record'] > 12.1) & (df_inputs_prepr['mths_since_last_record'] <= 29.04), 1, 0)\n",
    "df_inputs_prepr['mths_since_last_record:29-33'] = np.where((df_inputs_prepr['mths_since_last_record'] > 29.04) & (df_inputs_prepr['mths_since_last_record'] <= 33.88), 1, 0)\n",
    "df_inputs_prepr['mths_since_last_record:33-85'] = np.where((df_inputs_prepr['mths_since_last_record'] > 33.88) & (df_inputs_prepr['mths_since_last_record'] <= 84.7), 1, 0)\n",
    "df_inputs_prepr['mths_since_last_record:>=85'] = np.where((df_inputs_prepr['mths_since_last_record'] > 84.7), 1, 0)"
   ]
  },
  {
   "cell_type": "markdown",
   "metadata": {},
   "source": [
    "# Preprocessing the Test Dataset\n",
    "\n",
    "Step for create test data set\n",
    "\n",
    "> df_inputs_prepr = loan_data_inputs_train,\n",
    "> df_targets_prepr = loan_data_targets_train\n",
    "* At first we preprocess the dataset for loan_data_inputs_train\n",
    "* so after preprocessing it we store that data in loan_data_inputs_train variable\n",
    "\n",
    "\n",
    "> df_inputs_prepr = loan_data_inputs_test,\n",
    ">df_targets_prepr = loan_data_targets_test\n",
    "* then for test dataset we change the variable values of df_inputs_prepr and df_targets_prepr \n",
    "* and run it from data preparation section to until the complete the preprocessing and save the data set in loan_data_inputs_test"
   ]
  },
  {
   "cell_type": "code",
   "execution_count": null,
   "metadata": {},
   "outputs": [],
   "source": [
    "#first\n",
    "# loan_data_inputs_train = df_inputs_prepr\n",
    "# second\n",
    "loan_data_inputs_test = df_inputs_prepr"
   ]
  },
  {
   "cell_type": "code",
   "execution_count": null,
   "metadata": {},
   "outputs": [],
   "source": [
    "loan_data_inputs_train.columns.value_counts"
   ]
  },
  {
   "cell_type": "code",
   "execution_count": null,
   "metadata": {},
   "outputs": [],
   "source": [
    "loan_data_inputs_test.columns.value_counts"
   ]
  },
  {
   "cell_type": "markdown",
   "metadata": {},
   "source": [
    "## *saving the data into csv files*"
   ]
  },
  {
   "cell_type": "code",
   "execution_count": null,
   "metadata": {},
   "outputs": [],
   "source": [
    "loan_data_inputs_train.to_csv('loan_data_inputs_train.csv')\n",
    "loan_data_targets_train.to_csv('loan_data_targets_train.csv')\n",
    "loan_data_inputs_test.to_csv('loan_data_inputs_test.csv')\n",
    "loan_data_targets_test.to_csv('loan_data_targets_test.csv')"
   ]
  }
 ],
 "metadata": {
  "kernelspec": {
   "display_name": "Python 3",
   "language": "python",
   "name": "python3"
  },
  "language_info": {
   "codemirror_mode": {
    "name": "ipython",
    "version": 3
   },
   "file_extension": ".py",
   "mimetype": "text/x-python",
   "name": "python",
   "nbconvert_exporter": "python",
   "pygments_lexer": "ipython3",
   "version": "3.11.3"
  },
  "orig_nbformat": 4
 },
 "nbformat": 4,
 "nbformat_minor": 2
}
