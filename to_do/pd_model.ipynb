{
 "cells": [
  {
   "cell_type": "markdown",
   "metadata": {},
   "source": [
    "# Since the results of monitoring of pd model, is seems that model is lacking to give correct results as there are new trends in data independent variable, which leds to failure of pd model. So, it is need to retrain the model with new dataset which includes old data (2007-2014) and 2015. "
   ]
  },
  {
   "cell_type": "code",
   "execution_count": null,
   "metadata": {},
   "outputs": [],
   "source": []
  }
 ],
 "metadata": {
  "language_info": {
   "name": "python"
  }
 },
 "nbformat": 4,
 "nbformat_minor": 2
}
